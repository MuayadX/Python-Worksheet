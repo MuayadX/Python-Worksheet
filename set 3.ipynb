{
 "cells": [
  {
   "cell_type": "code",
   "execution_count": 1,
   "metadata": {},
   "outputs": [
    {
     "name": "stdout",
     "output_type": "stream",
     "text": [
      "hi\n"
     ]
    }
   ],
   "source": [
    "print (\"hi\")"
   ]
  },
  {
   "cell_type": "code",
   "execution_count": 15,
   "metadata": {},
   "outputs": [
    {
     "data": {
      "text/plain": [
       "['zas', 'zone']"
      ]
     },
     "execution_count": 15,
     "metadata": {},
     "output_type": "execute_result"
    }
   ],
   "source": [
    "'''\n",
    "1. You are given an array strarr of strings and an integer k. Your task is to return the\n",
    "first longest string consisting of k consecutive strings taken in the array.'''\n",
    "\n",
    "def longest_consec (any_strings_list, any_consecutive = 1):\n",
    "    \n",
    "    if any_consecutive > len(any_strings_list):\n",
    "        return \"\"\n",
    "    elif any_consecutive <=0:\n",
    "        return \"\"\n",
    "    else :\n",
    "        sorted_list = sorted(any_strings_list, key=len)\n",
    "        return sorted_list[:any_consecutive]\n",
    "\n",
    "\n",
    "longest_consec ([\"zone\", \"abigail\", \"theta\", \"form\", \"libe\", \"zas\", \"theta\", \"abigail\"],2)"
   ]
  },
  {
   "cell_type": "code",
   "execution_count": null,
   "metadata": {},
   "outputs": [],
   "source": [
    "''' 2. Given a list lst and a number N, create a new list that\n",
    "contains each number of lst at most N times without\n",
    "reordering. For example if N = 2, and the input is\n",
    "[1,2,3,1,2,1,2,3], you take [1,2,3,1,2], drop the next [1,2]\n",
    "since this would lead to 1 and 2 being in the result 3\n",
    "times, and then take 3, which leads to [1,2,3,1,2,3].\n",
    "'''\n",
    "\n"
   ]
  },
  {
   "cell_type": "code",
   "execution_count": null,
   "metadata": {},
   "outputs": [],
   "source": []
  }
 ],
 "metadata": {
  "kernelspec": {
   "display_name": "Python 3.11.0 64-bit",
   "language": "python",
   "name": "python3"
  },
  "language_info": {
   "codemirror_mode": {
    "name": "ipython",
    "version": 3
   },
   "file_extension": ".py",
   "mimetype": "text/x-python",
   "name": "python",
   "nbconvert_exporter": "python",
   "pygments_lexer": "ipython3",
   "version": "3.11.0"
  },
  "orig_nbformat": 4,
  "vscode": {
   "interpreter": {
    "hash": "aee8b7b246df8f9039afb4144a1f6fd8d2ca17a180786b69acc140d282b71a49"
   }
  }
 },
 "nbformat": 4,
 "nbformat_minor": 2
}
