{
 "cells": [
  {
   "cell_type": "code",
   "execution_count": 2,
   "metadata": {},
   "outputs": [
    {
     "name": "stdout",
     "output_type": "stream",
     "text": [
      "hello world!\n"
     ]
    }
   ],
   "source": [
    "print (\"hello world!\")"
   ]
  },
  {
   "cell_type": "code",
   "execution_count": 19,
   "metadata": {},
   "outputs": [
    {
     "name": "stdout",
     "output_type": "stream",
     "text": [
      "[('a', 5), ('b', 2), ('d', 1), ('r', 2), ('c', 1)]\n"
     ]
    }
   ],
   "source": [
    "'''\n",
    "1. Count the number of occurrences of each character and return it as\n",
    "a list of tuples in order of appearance.\n",
    "\n",
    "Example:\n",
    "ordered_count(“abracadabra”) == [('a', 5), ('b', 2), ('r', 2), ('c', 1), ('d', 1)]\n",
    "'''\n",
    "\n",
    "\n",
    "def ordered_count (any_str = \"\"):\n",
    "    counter = 0\n",
    "    list_of_tuples = []\n",
    "    for i in set(any_str) :\n",
    "        for j in any_str:\n",
    "            if i == j :\n",
    "                counter += 1\n",
    "        \n",
    "        list_of_tuples.append((i , counter))\n",
    "        counter = 0\n",
    "    print (list_of_tuples)\n",
    "\n",
    "\n",
    "ordered_count (\"abracadabra\")"
   ]
  },
  {
   "cell_type": "code",
   "execution_count": 18,
   "metadata": {},
   "outputs": [
    {
     "data": {
      "text/plain": [
       "True"
      ]
     },
     "execution_count": 18,
     "metadata": {},
     "output_type": "execute_result"
    }
   ],
   "source": [
    "# Q2 \n",
    "\n",
    "def check_narcissistic (n = 0):\n",
    "    power = 0 \n",
    "\n",
    "    for i in str(n) : \n",
    "        power += 1\n",
    "    \n",
    "    t = [(int(i) ** power) for i in list(str(n))]\n",
    "\n",
    "    if sum(t) == n :\n",
    "        return True\n",
    "    return False \n",
    "\n",
    "\n",
    "check_narcissistic (153)\n",
    "\n"
   ]
  },
  {
   "cell_type": "code",
   "execution_count": 60,
   "metadata": {},
   "outputs": [
    {
     "data": {
      "text/plain": [
       "True"
      ]
     },
     "execution_count": 60,
     "metadata": {},
     "output_type": "execute_result"
    }
   ],
   "source": [
    "# Q3\n",
    "\n",
    "def is_pangram (s):\n",
    "    a = ['a','b','c','d','e','f','g','h','i','j','k','l','m','n','o','p','q','r','s','t','u','v','w','x','y','z']\n",
    "    s = s.lower()\n",
    "\n",
    "    for i in a : \n",
    "        if i not in s :\n",
    "            return False\n",
    "    return True\n",
    "      \n",
    "\n",
    "\n",
    "\n",
    "is_pangram (\"The quick brown fox jumps over the lazy dog\")"
   ]
  },
  {
   "cell_type": "code",
   "execution_count": 3,
   "metadata": {},
   "outputs": [
    {
     "data": {
      "text/plain": [
       "True"
      ]
     },
     "execution_count": 3,
     "metadata": {},
     "output_type": "execute_result"
    }
   ],
   "source": [
    "# Q 4\n",
    "\n",
    "l = ['n','s','e','w']\n",
    "def find_me (l):\n",
    "    \n",
    "    if len(l) == 10:\n",
    "        if l.count('n') - l.count('s') == 0 and l.count('w') - l.count('e') == 0 :\n",
    "            return True\n",
    "    return False\n",
    "\n",
    "\n",
    "find_me (['s', 'e', 'w', 'n','n', 's', 'e', 'w', 'n', 's'])"
   ]
  },
  {
   "cell_type": "code",
   "execution_count": null,
   "metadata": {},
   "outputs": [],
   "source": []
  }
 ],
 "metadata": {
  "kernelspec": {
   "display_name": "Python 3.10.8 (conda)",
   "language": "python",
   "name": "python3"
  },
  "language_info": {
   "codemirror_mode": {
    "name": "ipython",
    "version": 3
   },
   "file_extension": ".py",
   "mimetype": "text/x-python",
   "name": "python",
   "nbconvert_exporter": "python",
   "pygments_lexer": "ipython3",
   "version": "3.10.8"
  },
  "orig_nbformat": 4,
  "vscode": {
   "interpreter": {
    "hash": "0048ec6b289d94a919f1e3500f11f9edd24f3d1841e33cb9640c9186da8014b3"
   }
  }
 },
 "nbformat": 4,
 "nbformat_minor": 2
}
