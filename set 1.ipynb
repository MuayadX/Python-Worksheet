{
 "cells": [
  {
   "cell_type": "code",
   "execution_count": 27,
   "metadata": {},
   "outputs": [
    {
     "data": {
      "text/plain": [
       "3"
      ]
     },
     "execution_count": 27,
     "metadata": {},
     "output_type": "execute_result"
    }
   ],
   "source": [
    "''' Q1\n",
    "You are given an array (which will have a length of at least 3, but could be very\n",
    "large) containing integers. The array is either entirely comprised of odd integers or\n",
    "entirely comprised of even integers except for a single integer N.\n",
    "\n",
    "Write a method that takes the array as an argument and returns this “outlier” N.'''\n",
    "\n",
    "\n",
    "def find_outlier (list_int):\n",
    "    list_odd = []\n",
    "    list_even = []\n",
    "    for i in list_int:\n",
    "        if i % 2 == 0 :\n",
    "            list_even.append(i)\n",
    "        else: \n",
    "            list_odd.append(i)\n",
    "    if len(list_even) >= 2 :\n",
    "        return list_odd[0]\n",
    "    elif len(list_odd) >= 2:\n",
    "        return list_even[0]\n",
    "    \n",
    "\n",
    "find_outlier([2, 4, 6, 8, 10, 3])"
   ]
  },
  {
   "cell_type": "code",
   "execution_count": 69,
   "metadata": {},
   "outputs": [
    {
     "data": {
      "text/plain": [
       "[7, 51, 3, 7, 33]"
      ]
     },
     "execution_count": 69,
     "metadata": {},
     "output_type": "execute_result"
    }
   ],
   "source": [
    "''' Q2\n",
    "Your goal in this task is to implement a difference function, which subtracts one\n",
    "list from another and returns the result.\n",
    "\n",
    "It should remove all values from list a, which are present in list b.'''\n",
    "\n",
    "def array_diff ( a , b ): \n",
    "    c = list(set(a) & set(b))\n",
    "    return [i for i in a if i not in c]\n",
    "\n",
    "\n",
    "array_diff([5,1,7,51,2,2,4,3,9,7,33], [2,4,1,5,8,9])"
   ]
  },
  {
   "cell_type": "code",
   "execution_count": 70,
   "metadata": {},
   "outputs": [
    {
     "name": "stdout",
     "output_type": "stream",
     "text": [
      "Bart,Lisa & Maggie\n"
     ]
    }
   ],
   "source": [
    "''' Q3\n",
    "Given: an array containing hashes of names\n",
    "Return: a string formatted as a list of names separated by commas except for the last\n",
    "two names, which should be separated by an ampersand.\n",
    "'''\n",
    "\n",
    "namelist = [  {'name': 'Bart'}, {'name': 'Lisa'}, {'name': 'Maggie'}]\n",
    "\n",
    "names = [i['name'] for i in namelist ]\n",
    "\n",
    "if len(names) == 2 : \n",
    "    print (' & '.join(names))\n",
    "elif len(names) > 2 :\n",
    "    print ( ','.join(names[:-1]) + ' & ' + ''.join(names[-1]))\n",
    "elif len(names) == 1:\n",
    "    print (names[0])\n",
    "else : \n",
    "    print ('no names to print')"
   ]
  },
  {
   "cell_type": "code",
   "execution_count": 84,
   "metadata": {},
   "outputs": [
    {
     "data": {
      "text/plain": [
       "[1, 123]"
      ]
     },
     "execution_count": 84,
     "metadata": {},
     "output_type": "execute_result"
    }
   ],
   "source": [
    "# Q4 In this task, create a function that takes a list of non-negative integers and strings\n",
    "# and returns a new list with the strings filtered out.\n",
    "\n",
    "def filter_list (non_filter_list):\n",
    "    filtered_list = []\n",
    "    for i in non_filter_list : \n",
    "        if type (i) == int and i > 0 : \n",
    "            filtered_list.append(i)\n",
    "    return filtered_list\n",
    "\n",
    " \n",
    "filter_list([1,2,'a','b']) \n",
    "filter_list([1,'a','b',0,15])\n",
    "filter_list([1,-2,'aasf','1','12',123])\n",
    "\n"
   ]
  },
  {
   "cell_type": "code",
   "execution_count": 109,
   "metadata": {},
   "outputs": [
    {
     "data": {
      "text/plain": [
       "5"
      ]
     },
     "execution_count": 109,
     "metadata": {},
     "output_type": "execute_result"
    }
   ],
   "source": [
    "''' \n",
    "Q5 \n",
    "Given an array, find the int that appears an odd number of times.\n",
    "There will always be only one integer that appears an odd number of times.\n",
    "\n",
    "'''\n",
    "\n",
    "\n",
    "def find_it (numbers_list):\n",
    "    for i in set(numbers_list):\n",
    "        if numbers_list.count(i) % 2 == 1 :\n",
    "            return i \n",
    "\n",
    "\n",
    "find_it([20,1,-1,2,-2,3,3,5,5,1,2,4,20,4,-1,-2,5])"
   ]
  },
  {
   "cell_type": "code",
   "execution_count": 122,
   "metadata": {},
   "outputs": [
    {
     "data": {
      "text/plain": [
       "False"
      ]
     },
     "execution_count": 122,
     "metadata": {},
     "output_type": "execute_result"
    }
   ],
   "source": [
    "# Q6 Check to see if a string has the same amount of ’x’s and ’o’s. The method must\n",
    "#return a boolean and be case insensitive. The string can contain any char.\n",
    "\n",
    "def XO (any_str = '') : \n",
    "    \n",
    "    if any_str.upper().count('X') == any_str.upper().count('O') :\n",
    "        return True\n",
    "    else:\n",
    "        return False\n",
    "\n",
    "\n",
    "XO('ooxx')\n",
    "XO(\"xooxx\")\n",
    "XO(\"ooxXm\")\n",
    "XO(\"zpzpzpp\")\n",
    "XO(\"zzoo\")\n",
    "\n"
   ]
  },
  {
   "cell_type": "code",
   "execution_count": 156,
   "metadata": {},
   "outputs": [
    {
     "data": {
      "text/plain": [
       "True"
      ]
     },
     "execution_count": 156,
     "metadata": {},
     "output_type": "execute_result"
    }
   ],
   "source": [
    "# Q7 ATM machines allow 4 or 6 digit PIN codes\n",
    "#and PIN codes cannot contain anything but exactly 4 digits or exactly 6 digits.\n",
    "#If the function is passed a valid PIN string, return true, else return false.\n",
    "\n",
    "\n",
    "def validate_pin (any_str = ''):\n",
    "    if len(any_str) == 4 or len(any_str) == 6 :\n",
    "\n",
    "        if sum(i.isdigit() for i in any_str) == 4 or sum(i.isdigit() for i in any_str) == 6 :\n",
    "            return True\n",
    "        else : \n",
    "            return False     \n",
    "    else : \n",
    "        return False \n",
    "\n",
    "validate_pin(\"123456\")\n"
   ]
  },
  {
   "cell_type": "code",
   "execution_count": 179,
   "metadata": {},
   "outputs": [
    {
     "data": {
      "text/plain": [
       "2"
      ]
     },
     "execution_count": 179,
     "metadata": {},
     "output_type": "execute_result"
    }
   ],
   "source": [
    "#Q8 Simple, given a string of words, return the length of the shortest word(s).\n",
    "#String will never be empty and you do not need to account for different data types.\n",
    "\n",
    "\n",
    "def length_shortest (any_string = ''):\n",
    "\n",
    "    list_words = any_string.split(' ')\n",
    "    min_word = len(list_words[0])\n",
    "\n",
    "    for i in list_words : \n",
    "        if len(i) < min_word :\n",
    "            min_word = len(i)\n",
    "    return min_word\n",
    "\n",
    "\n",
    "length_shortest (\"Muayad Sirafy king hi\")"
   ]
  },
  {
   "cell_type": "code",
   "execution_count": 94,
   "metadata": {},
   "outputs": [
    {
     "data": {
      "text/plain": [
       "['P']"
      ]
     },
     "execution_count": 94,
     "metadata": {},
     "output_type": "execute_result"
    }
   ],
   "source": [
    "# Q9 Find the missing letter\n",
    "\n",
    "\n",
    "def find_missed_letter (any_list):\n",
    "    a = ['a', 'b', 'c', 'd', 'e', 'f', 'g', 'h', 'i', 'j', 'k', 'l', 'm', 'n', 'o', 'p', 'q', 'r', 's', 't', 'u', 'v', 'w', 'x', 'y', 'z',\n",
    "    'A', 'B', 'C', 'D', 'E', 'F', 'G', 'H', 'I', 'J', 'K', 'L', 'M', 'N', 'O', 'P', 'Q', 'R', 'S', 'T', 'U', 'V', 'W', 'X', 'Y', 'Z']\n",
    "\n",
    "    missed_letter_list = [letter for letter in any_list ]\n",
    "\n",
    "    start = 0\n",
    "    missed = []\n",
    "\n",
    "    # find the 1st givin letter index in \"a\" list \n",
    "    for i in a : \n",
    "        if i == missed_letter_list[0]:\n",
    "            start = a.index(i) +1 \n",
    "            break\n",
    "\n",
    "    x = 1\n",
    "    end = start + len(missed_letter_list)\n",
    "\n",
    "    while start < end:\n",
    "        if missed_letter_list[x] != a[start]:\n",
    "            missed.append(a[start])\n",
    "            break\n",
    "        else : \n",
    "            return False \n",
    "\n",
    "        start += 1\n",
    "        x += 1\n",
    "        \n",
    "    return missed\n",
    "\n",
    "\n",
    "find_missed_letter (['b','c','d','f'] )\n",
    "find_missed_letter (['O','Q','R','S'] )\n",
    "\n",
    "\n"
   ]
  },
  {
   "cell_type": "code",
   "execution_count": 8,
   "metadata": {},
   "outputs": [
    {
     "name": "stdout",
     "output_type": "stream",
     "text": [
      "['Ryan', 'Yous']\n"
     ]
    }
   ],
   "source": [
    "# Q 10 \n",
    "'''Make a program that filters a list of strings and returns a list with only your\n",
    "friends name in it. If a name has exactly 4 letters in it, you can be sure that it has to\n",
    "be a friend of yours! Otherwise, you can be sure he /she is not.\n",
    "\n",
    "Ex: Input = [“Ryan”, “Kieran”, “Jason”, “Yous”], Output = [“Ryan”, “Yous”]\n",
    "\n",
    "Note: keep the original order of the names in the output.'''\n",
    "\n",
    "\n",
    "def friends_name (list_names):\n",
    "    print ([i for i in list_names if len(i) == 4])\n",
    "\n",
    "\n",
    "friends_name([\"Ryan\", \"Kieran\", \"Jason\", \"Yous\"])"
   ]
  },
  {
   "cell_type": "code",
   "execution_count": null,
   "metadata": {},
   "outputs": [],
   "source": []
  }
 ],
 "metadata": {
  "kernelspec": {
   "display_name": "Python 3.10.8 (conda)",
   "language": "python",
   "name": "python3"
  },
  "language_info": {
   "codemirror_mode": {
    "name": "ipython",
    "version": 3
   },
   "file_extension": ".py",
   "mimetype": "text/x-python",
   "name": "python",
   "nbconvert_exporter": "python",
   "pygments_lexer": "ipython3",
   "version": "3.10.8"
  },
  "orig_nbformat": 4,
  "vscode": {
   "interpreter": {
    "hash": "0048ec6b289d94a919f1e3500f11f9edd24f3d1841e33cb9640c9186da8014b3"
   }
  }
 },
 "nbformat": 4,
 "nbformat_minor": 2
}
